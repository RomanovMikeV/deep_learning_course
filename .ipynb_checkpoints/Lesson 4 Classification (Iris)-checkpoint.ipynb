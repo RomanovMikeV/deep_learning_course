{
 "cells": [
  {
   "cell_type": "code",
   "execution_count": 1,
   "metadata": {
    "collapsed": false
   },
   "outputs": [
    {
     "name": "stdout",
     "output_type": "stream",
     "text": [
      "Populating the interactive namespace from numpy and matplotlib\n"
     ]
    }
   ],
   "source": [
    "%pylab inline\n",
    "import sklearn.datasets\n",
    "import torch\n",
    "import torch.nn"
   ]
  },
  {
   "cell_type": "code",
   "execution_count": 2,
   "metadata": {
    "collapsed": true
   },
   "outputs": [],
   "source": [
    "iris = sklearn.datasets.load_iris()"
   ]
  },
  {
   "cell_type": "code",
   "execution_count": 3,
   "metadata": {
    "collapsed": false
   },
   "outputs": [],
   "source": [
    "features = iris.data[:, :2]\n",
    "labels = iris.target\n",
    "\n",
    "order = random.permutation(150)\n",
    "\n",
    "features = features[order, :]\n",
    "labels = labels[order]\n",
    "\n",
    "targets = numpy.zeros([150, 3])\n",
    "targets[arange(150), labels] = 1.0\n",
    "\n",
    "train_features = features[:100, :]\n",
    "test_features = features[100:, :]\n",
    "train_targets = targets[:100]\n",
    "test_targets = targets[100:]\n",
    "train_labels = labels[:100]\n",
    "test_labels = labels[100:]\n",
    "\n"
   ]
  },
  {
   "cell_type": "code",
   "execution_count": 7,
   "metadata": {
    "collapsed": true
   },
   "outputs": [],
   "source": [
    "class IrisNet(torch.nn.Module):\n",
    "    def __init__(self, n_hidden_neurons):\n",
    "        \n",
    "        super(IrisNet, self).__init__()\n",
    "        self.fc1 = torch.nn.Linear(2, n_hidden_neurons)\n",
    "        self.activ1 = torch.nn.Sigmoid()\n",
    "        self.fc2 = torch.nn.Linear(n_hidden_neurons, 3)\n",
    "#         self.activ2 = torch.nn.Softmax()\n",
    "        \n",
    "    def forward(self, x):\n",
    "        x = self.fc1(x)\n",
    "        x = self.activ1(x)\n",
    "        x = self.fc2(x)\n",
    "#         x = self.activ2(x)\n",
    "        return x"
   ]
  },
  {
   "cell_type": "code",
   "execution_count": 8,
   "metadata": {
    "collapsed": false
   },
   "outputs": [
    {
     "name": "stdout",
     "output_type": "stream",
     "text": [
      "(100, 3)\n"
     ]
    }
   ],
   "source": [
    "criterion = torch.nn.CrossEntropyLoss()\n",
    "    \n",
    "    \n",
    "print train_targets.shape\n",
    "\n",
    "iris_net = IrisNet(5)\n",
    "\n",
    "optimizer = torch.optim.Adam(iris_net.parameters(), lr=1.0e-3)"
   ]
  },
  {
   "cell_type": "code",
   "execution_count": 9,
   "metadata": {
    "collapsed": false
   },
   "outputs": [
    {
     "name": "stdout",
     "output_type": "stream",
     "text": [
      "0.34\n",
      "0.72\n",
      "0.74\n",
      "0.76\n",
      "0.78\n",
      "0.78\n",
      "0.78\n",
      "0.82\n",
      "0.78\n",
      "0.8\n",
      "0.82\n",
      "0.82\n",
      "0.82\n",
      "0.82\n",
      "0.82\n",
      "0.82\n",
      "0.82\n",
      "0.82\n",
      "0.82\n",
      "0.82\n",
      "0.82\n",
      "0.82\n",
      "0.82\n",
      "0.82\n",
      "0.82\n",
      "0.82\n",
      "0.82\n",
      "0.82\n",
      "0.82\n",
      "0.82\n",
      "0.82\n",
      "0.82\n",
      "0.84\n",
      "0.84\n",
      "0.84\n",
      "0.84\n",
      "0.84\n",
      "0.84\n",
      "0.84\n",
      "0.84\n",
      "0.84\n",
      "0.84\n",
      "0.84\n",
      "0.84\n",
      "0.84\n",
      "0.84\n",
      "0.84\n",
      "0.84\n",
      "0.84\n",
      "0.84\n",
      "0.84\n",
      "0.84\n",
      "0.84\n",
      "0.84\n",
      "0.84\n",
      "0.84\n",
      "0.84\n",
      "0.84\n",
      "0.84\n",
      "0.84\n",
      "0.84\n",
      "0.84\n",
      "0.84\n",
      "0.84\n",
      "0.84\n",
      "0.84\n",
      "0.84\n",
      "0.84\n",
      "0.84\n",
      "0.84\n",
      "0.84\n",
      "0.84\n",
      "0.84\n",
      "0.84\n",
      "0.84\n",
      "0.84\n",
      "0.84\n",
      "0.84\n",
      "0.84\n",
      "0.84\n",
      "0.84\n",
      "0.84\n",
      "0.84\n",
      "0.84\n",
      "0.84\n",
      "0.84\n",
      "0.84\n",
      "0.84\n",
      "0.84\n",
      "0.84\n",
      "0.84\n",
      "0.84\n",
      "0.84\n",
      "0.84\n",
      "0.84\n",
      "0.84\n",
      "0.84\n",
      "0.84\n",
      "0.84\n",
      "0.84\n"
     ]
    }
   ],
   "source": [
    "batch_size = 10\n",
    "\n",
    "softmax = torch.nn.Softmax()\n",
    "\n",
    "for epoch in range(10000):\n",
    "    order = random.permutation(train_features.shape[0])\n",
    "    for start_index in range(0, train_features.shape[0], batch_size):\n",
    "        optimizer.zero_grad()\n",
    "        \n",
    "        batch_indice = order[start_index:start_index+batch_size]\n",
    "        \n",
    "        batch_features = torch.FloatTensor(train_features[batch_indice, :])\n",
    "        batch_labels = torch.LongTensor(train_labels[batch_indice])\n",
    "        \n",
    "        features_var = torch.autograd.Variable(batch_features)\n",
    "        targets_var = torch.autograd.Variable(batch_labels)\n",
    "        \n",
    "        preds_var = iris_net.forward(features_var)\n",
    "        \n",
    "#         print preds_var\n",
    "#         print targets_var\n",
    "        \n",
    "        loss = criterion.forward(preds_var, targets_var)\n",
    "        loss.backward()\n",
    "        \n",
    "        optimizer.step()\n",
    "        \n",
    "    test_features = torch.Tensor(test_features)\n",
    "    features_var = torch.autograd.Variable(test_features)\n",
    "    test_preds = iris_net.forward(features_var)\n",
    "    test_preds = softmax(test_preds).data.numpy()\n",
    "        \n",
    "    test_preds = test_preds.argmax(axis=1)\n",
    "    if epoch % 100 == 0:\n",
    "        print (test_preds == test_labels).sum() / float(test_labels.size)"
   ]
  },
  {
   "cell_type": "markdown",
   "metadata": {},
   "source": [
    "# Задание 1\n",
    "Сделать нейронную сеть с двумя скрытыми слоями (оба сигмоидные). Подобрать количество нейронов в первом и втором слое, которое максимизирует значение accuracy (процент угаданных цветков).\n",
    "\n",
    "Замените функцию активации с сигмоиды на гиперболический тангенс.\n",
    "Что изменилось?"
   ]
  },
  {
   "cell_type": "markdown",
   "metadata": {},
   "source": [
    "# Задание 2\n",
    "Отцентрируйте и отнормируйте данные, добавьте неиспользованные признаки. Стало ли качество лучше? Что больше повлияло на качество, предобработка данных или увеличение числа рассматриваемых признаков?"
   ]
  }
 ],
 "metadata": {
  "anaconda-cloud": {},
  "kernelspec": {
   "display_name": "Python [conda root]",
   "language": "python",
   "name": "conda-root-py"
  }
 },
 "nbformat": 4,
 "nbformat_minor": 2
}
